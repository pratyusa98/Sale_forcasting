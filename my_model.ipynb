{
 "cells": [
  {
   "cell_type": "markdown",
   "metadata": {},
   "source": [
    "# Deployment Of The Model Using Flask\n",
    "\n",
    "- When a data scientist/machine learning engineer develops a machine learning model using Scikit-Learn, TensorFlow, Keras, PyTorch etc, the ultimate goal is to make it available in production.\n",
    "- Often times when working on a machine learning project, we focus a lot on Exploratory Data Analysis(EDA), Feature Engineering, tweaking with hyper-parameters etc. But we tend to forget our main goal, which is to extract real value from the model predictions.\n",
    "\n",
    "## In This Note Book I am teach you how you deploy your model in locally.\n",
    "\n",
    "- Actually When Deployment Part comes there are two type of deployment\n",
    "   1. Deploy Locally (On your computer)\n",
    "   2. Deploy Globally (Use Heraku,Aws,cloud etc)\n",
    "   \n",
    "   \n",
    "  \n",
    "- But befor deploy globally we need to check how our model works in own system.\n",
    "- So here 1st i am deploy this in own system\n",
    "- then after few days i am teach you how to deploy in cloud.\n",
    "\n",
    "## So Lets Begin This amazing Part\n",
    "\n",
    "  Step 1 : 1st you need to develop the model using your jupyter notebook or any python ide (Here i Use Jupyter)\n",
    "  \n",
    "  step 2 : Dumb This model to Pickle File For the production. Because in jupyter we cant deploy. so by the help of Pickle Module you need to dumb you model.\n",
    "  \n",
    "  step 3 : It is most important step , because in this you build your web app.\n",
    "      \n",
    "          step 1 : You Nedd to know flask framework to build this and also known as Html/bootstrap to design your webpage.\n",
    "          \n",
    "          step 2 : You make a folder , inside this folder you create app.py file and template folder.\n",
    "          \n",
    "    See Your Folder Structure:\n",
    "  <img src=\"2.png\" width=800>\n",
    "  \n",
    "  See there are One Template Folder,One app.py, One my_model.ipynb and one linearmodel.pkl file,and sales.csv\n",
    "  \n",
    "  - In Template Folder YOur index.html page present\n",
    "  - in app.py file contains flask code for deployment on locally\n",
    "  - in my_model.ipynb file your model build code.\n",
    "  - linearmodel.pkl is the your dumb file\n",
    "  - sales.csv is your dataset\n",
    "          \n",
    "          step 3 : all your html file you put inside on template folder otherwise it throws error.\n",
    "          \n",
    "          step 4 : 1st you install flask in your system by \"pip install flask\" . other wise it not work. Then you  code your app.py file. (See below this notebook i add app.py file)\n",
    "          \n",
    "          step 5 : Then Create your index.html, Now your work is Done  (See below this notebook i add index.html file)\n",
    "          \n",
    "          step 6 : You excute your app.py file in cmd type (python app.py) After that it open  http://127.0.0.1:5000/predict this type of link.\n",
    "          \n",
    "          step 7 : Hurray!! YOu make your 1st flask app.\n",
    "          \n",
    "          \n",
    "### Here also i demonstrate this whole step , once you go through it so that you can confidence to build any model"
   ]
  },
  {
   "cell_type": "markdown",
   "metadata": {},
   "source": [
    "## Step: 1 (develop the model Use jupyter)"
   ]
  },
  {
   "cell_type": "code",
   "execution_count": 1,
   "metadata": {},
   "outputs": [],
   "source": [
    "import numpy as np\n",
    "import seaborn as sns\n",
    "import matplotlib.pyplot as plt\n",
    "import pandas as pd\n",
    "import pickle"
   ]
  },
  {
   "cell_type": "code",
   "execution_count": 2,
   "metadata": {},
   "outputs": [],
   "source": [
    "dataset = pd.read_csv('sales.csv')"
   ]
  },
  {
   "cell_type": "code",
   "execution_count": 3,
   "metadata": {},
   "outputs": [
    {
     "data": {
      "text/html": [
       "<div>\n",
       "<style scoped>\n",
       "    .dataframe tbody tr th:only-of-type {\n",
       "        vertical-align: middle;\n",
       "    }\n",
       "\n",
       "    .dataframe tbody tr th {\n",
       "        vertical-align: top;\n",
       "    }\n",
       "\n",
       "    .dataframe thead th {\n",
       "        text-align: right;\n",
       "    }\n",
       "</style>\n",
       "<table border=\"1\" class=\"dataframe\">\n",
       "  <thead>\n",
       "    <tr style=\"text-align: right;\">\n",
       "      <th></th>\n",
       "      <th>rate</th>\n",
       "      <th>sales_in_first_month</th>\n",
       "      <th>sales_in_second_month</th>\n",
       "      <th>sales_in_third_month</th>\n",
       "    </tr>\n",
       "  </thead>\n",
       "  <tbody>\n",
       "    <tr>\n",
       "      <th>0</th>\n",
       "      <td>NaN</td>\n",
       "      <td>2</td>\n",
       "      <td>500</td>\n",
       "      <td>300</td>\n",
       "    </tr>\n",
       "    <tr>\n",
       "      <th>1</th>\n",
       "      <td>NaN</td>\n",
       "      <td>4</td>\n",
       "      <td>300</td>\n",
       "      <td>650</td>\n",
       "    </tr>\n",
       "    <tr>\n",
       "      <th>2</th>\n",
       "      <td>four</td>\n",
       "      <td>600</td>\n",
       "      <td>200</td>\n",
       "      <td>400</td>\n",
       "    </tr>\n",
       "    <tr>\n",
       "      <th>3</th>\n",
       "      <td>nine</td>\n",
       "      <td>450</td>\n",
       "      <td>320</td>\n",
       "      <td>650</td>\n",
       "    </tr>\n",
       "    <tr>\n",
       "      <th>4</th>\n",
       "      <td>seven</td>\n",
       "      <td>600</td>\n",
       "      <td>250</td>\n",
       "      <td>350</td>\n",
       "    </tr>\n",
       "    <tr>\n",
       "      <th>5</th>\n",
       "      <td>five</td>\n",
       "      <td>550</td>\n",
       "      <td>200</td>\n",
       "      <td>700</td>\n",
       "    </tr>\n",
       "  </tbody>\n",
       "</table>\n",
       "</div>"
      ],
      "text/plain": [
       "    rate  sales_in_first_month  sales_in_second_month  sales_in_third_month\n",
       "0    NaN                     2                    500                   300\n",
       "1    NaN                     4                    300                   650\n",
       "2   four                   600                    200                   400\n",
       "3   nine                   450                    320                   650\n",
       "4  seven                   600                    250                   350\n",
       "5   five                   550                    200                   700"
      ]
     },
     "execution_count": 3,
     "metadata": {},
     "output_type": "execute_result"
    }
   ],
   "source": [
    "dataset.head(10)"
   ]
  },
  {
   "cell_type": "markdown",
   "metadata": {},
   "source": [
    "### Here our target variable is sales_in_third_month"
   ]
  },
  {
   "cell_type": "code",
   "execution_count": 4,
   "metadata": {},
   "outputs": [
    {
     "data": {
      "text/plain": [
       "(6, 4)"
      ]
     },
     "execution_count": 4,
     "metadata": {},
     "output_type": "execute_result"
    }
   ],
   "source": [
    "dataset.shape"
   ]
  },
  {
   "cell_type": "markdown",
   "metadata": {},
   "source": [
    "#### Here i am taking 6row and 4column dataset. i know this is very less dataset but the deployment part same for all dataset."
   ]
  },
  {
   "cell_type": "markdown",
   "metadata": {},
   "source": [
    "## Analysis"
   ]
  },
  {
   "cell_type": "code",
   "execution_count": 5,
   "metadata": {},
   "outputs": [
    {
     "data": {
      "text/plain": [
       "rate                     2\n",
       "sales_in_first_month     0\n",
       "sales_in_second_month    0\n",
       "sales_in_third_month     0\n",
       "dtype: int64"
      ]
     },
     "execution_count": 5,
     "metadata": {},
     "output_type": "execute_result"
    }
   ],
   "source": [
    "dataset.isnull().sum()"
   ]
  },
  {
   "cell_type": "markdown",
   "metadata": {},
   "source": [
    "### Here you see there are 2 null value in rate column so we need to fix it"
   ]
  },
  {
   "cell_type": "code",
   "execution_count": 6,
   "metadata": {},
   "outputs": [],
   "source": [
    "dataset['rate'] = dataset['rate'].fillna(dataset['rate'].mode()[0])"
   ]
  },
  {
   "cell_type": "code",
   "execution_count": 7,
   "metadata": {},
   "outputs": [
    {
     "data": {
      "text/plain": [
       "rate                     0\n",
       "sales_in_first_month     0\n",
       "sales_in_second_month    0\n",
       "sales_in_third_month     0\n",
       "dtype: int64"
      ]
     },
     "execution_count": 7,
     "metadata": {},
     "output_type": "execute_result"
    }
   ],
   "source": [
    "dataset.isnull().sum()"
   ]
  },
  {
   "cell_type": "code",
   "execution_count": 8,
   "metadata": {},
   "outputs": [
    {
     "name": "stdout",
     "output_type": "stream",
     "text": [
      "<class 'pandas.core.frame.DataFrame'>\n",
      "RangeIndex: 6 entries, 0 to 5\n",
      "Data columns (total 4 columns):\n",
      " #   Column                 Non-Null Count  Dtype \n",
      "---  ------                 --------------  ----- \n",
      " 0   rate                   6 non-null      object\n",
      " 1   sales_in_first_month   6 non-null      int64 \n",
      " 2   sales_in_second_month  6 non-null      int64 \n",
      " 3   sales_in_third_month   6 non-null      int64 \n",
      "dtypes: int64(3), object(1)\n",
      "memory usage: 320.0+ bytes\n"
     ]
    }
   ],
   "source": [
    "dataset.info()"
   ]
  },
  {
   "cell_type": "markdown",
   "metadata": {},
   "source": [
    "### Deal with Categorical Data"
   ]
  },
  {
   "cell_type": "code",
   "execution_count": 9,
   "metadata": {},
   "outputs": [
    {
     "data": {
      "text/plain": [
       "five     3\n",
       "four     1\n",
       "seven    1\n",
       "nine     1\n",
       "Name: rate, dtype: int64"
      ]
     },
     "execution_count": 9,
     "metadata": {},
     "output_type": "execute_result"
    }
   ],
   "source": [
    "dataset['rate'].value_counts()"
   ]
  },
  {
   "cell_type": "code",
   "execution_count": 10,
   "metadata": {},
   "outputs": [],
   "source": [
    "dataset['rate'] = dataset['rate'].replace((\"five\",\"seven\",\"nine\",\"four\"),(5,7,9,4))"
   ]
  },
  {
   "cell_type": "code",
   "execution_count": 11,
   "metadata": {},
   "outputs": [
    {
     "data": {
      "text/plain": [
       "5    3\n",
       "7    1\n",
       "4    1\n",
       "9    1\n",
       "Name: rate, dtype: int64"
      ]
     },
     "execution_count": 11,
     "metadata": {},
     "output_type": "execute_result"
    }
   ],
   "source": [
    "dataset['rate'].value_counts()"
   ]
  },
  {
   "cell_type": "code",
   "execution_count": 13,
   "metadata": {},
   "outputs": [],
   "source": [
    "X = dataset.iloc[:, :3]\n",
    "y = dataset.iloc[:, -1]"
   ]
  },
  {
   "cell_type": "code",
   "execution_count": 14,
   "metadata": {},
   "outputs": [],
   "source": [
    "from sklearn.linear_model import LinearRegression\n",
    "regressor = LinearRegression()"
   ]
  },
  {
   "cell_type": "code",
   "execution_count": 15,
   "metadata": {},
   "outputs": [
    {
     "data": {
      "text/plain": [
       "LinearRegression()"
      ]
     },
     "execution_count": 15,
     "metadata": {},
     "output_type": "execute_result"
    }
   ],
   "source": [
    "regressor.fit(X, y)"
   ]
  },
  {
   "cell_type": "code",
   "execution_count": 16,
   "metadata": {},
   "outputs": [
    {
     "name": "stdout",
     "output_type": "stream",
     "text": [
      "Accuracy : 0.6029310840324749\n"
     ]
    }
   ],
   "source": [
    "print(\"Accuracy :\", regressor.score(X,y))"
   ]
  },
  {
   "cell_type": "markdown",
   "metadata": {},
   "source": [
    "## Test Our Model"
   ]
  },
  {
   "cell_type": "code",
   "execution_count": 17,
   "metadata": {},
   "outputs": [
    {
     "name": "stdout",
     "output_type": "stream",
     "text": [
      "Sale in 3rd month is  507.19\n"
     ]
    }
   ],
   "source": [
    "print(\"Sale in 3rd month is \",regressor.predict([[4,200,300]])[0].round(2))"
   ]
  },
  {
   "cell_type": "markdown",
   "metadata": {},
   "source": [
    "## Step 2: (Dumb This model to Pickle)"
   ]
  },
  {
   "cell_type": "code",
   "execution_count": 18,
   "metadata": {},
   "outputs": [],
   "source": [
    "pickle.dump(regressor, open('linearmodel.pkl','wb'))"
   ]
  },
  {
   "cell_type": "markdown",
   "metadata": {},
   "source": [
    "## Step 3 : \n",
    "\n",
    " #### step 4: Make your app.py\n",
    " \n",
    " # app.py File"
   ]
  },
  {
   "cell_type": "raw",
   "metadata": {},
   "source": [
    "### app.py Code\n",
    "\n",
    "import numpy as np\n",
    "from flask import Flask, request, jsonify, render_template\n",
    "import pickle\n",
    "\n",
    "app = Flask(__name__)\n",
    "\n",
    "## See here i use linearmodel.pkl file for production\n",
    "\n",
    "model = pickle.load(open('linearmodel.pkl', 'rb'))\n",
    "\n",
    "@app.route('/')\n",
    "def home():\n",
    "    return render_template('index.html')\n",
    "\n",
    "@app.route('/predict',methods=['POST'])\n",
    "def predict():\n",
    "\n",
    "    if request.method == 'POST':\n",
    "        \n",
    "        ## Rate,sales1stmonth,sales2ndmonth all are from index form filed name so that i can capture the value\n",
    "        \n",
    "        rate = request.form['rate']\n",
    "        sales1stmonth = request.form['sales1stmonth']\n",
    "        sales2ndmonth = request.form['sales2ndmonth']\n",
    "\n",
    "        data = [rate,sales1stmonth,sales2ndmonth]\n",
    "\n",
    "        int_features = [int(x) for x in data]\n",
    "        final_features = [np.array(int_features)]\n",
    "        \n",
    "        prediction = model.predict(final_features)\n",
    "\n",
    "        output = round(prediction[0], 2)\n",
    "\n",
    "        return render_template('index.html', prediction_text='Sales should be $ {}'.format(output))\n",
    "\n",
    "\n",
    "\n",
    "if __name__ == \"__main__\":\n",
    "    app.run(debug=True)"
   ]
  },
  {
   "cell_type": "markdown",
   "metadata": {},
   "source": [
    "### Step 5 : Make index.html Put This file in to your Templates Folder\n",
    "\n",
    "# Index.html file"
   ]
  },
  {
   "cell_type": "raw",
   "metadata": {},
   "source": [
    "## Index.html code\n",
    "\n",
    "<!DOCTYPE html>\n",
    "<html >\n",
    "  <head>\n",
    "    <meta charset=\"UTF-8\">\n",
    "    <title>Deployment Tutorial 1</title>\n",
    "    <meta name=\"viewport\" content=\"width=device-width, initial-scale=1\">\n",
    "    <link rel=\"stylesheet\" href=\"https://maxcdn.bootstrapcdn.com/bootstrap/3.4.1/css/bootstrap.min.css\">\n",
    "    <script src=\"https://ajax.googleapis.com/ajax/libs/jquery/3.5.1/jquery.min.js\"></script>\n",
    "    <script src=\"https://maxcdn.bootstrapcdn.com/bootstrap/3.4.1/js/bootstrap.min.js\"></script>\n",
    "    \n",
    "  </head>\n",
    "  <body>\n",
    "    <div class=\"container-fluid\" style=\"width: 50%\">\n",
    "      <h1>Sales Forecasting</h1>\n",
    "      <!-- Main Input For Receiving Query to our ML -->\n",
    "      \n",
    "      <form action=\"/predict\" method=\"POST\">\n",
    "        <div class=\"form-group\">\n",
    "          \n",
    "          <input type=\"text\" class=\"form-control\" id=\"exampleInputEmail1\"  name=\"rate\" placeholder=\"Rate\">\n",
    "          \n",
    "        </div>\n",
    "        <div class=\"form-group\">\n",
    "          \n",
    "          <input type=\"text\" class=\"form-control\" id=\"exampleInputEmail1\"  name=\"sales1stmonth\" placeholder=\"sales1stmonth\">\n",
    "          \n",
    "        </div>\n",
    "        <div class=\"form-group\">\n",
    "          \n",
    "          <input type=\"text\" class=\"form-control\" id=\"exampleInputEmail1\"  name=\"sales2ndmonth\" placeholder=\"sales2ndmonth\">\n",
    "          \n",
    "        </div>\n",
    "        \n",
    "        \n",
    "        <button type=\"submit\" class=\"btn btn-primary\">Submit</button>\n",
    "      </form>\n",
    "      <br>\n",
    "      <br>\n",
    "      \n",
    "      #here your result show\n",
    "     <p style=\"font-size: 50px;\"> {{ prediction_text }} </p>\n",
    "     \n",
    "    </div>\n",
    "  </body>\n",
    "</html>"
   ]
  },
  {
   "cell_type": "markdown",
   "metadata": {},
   "source": [
    "# See The Output Page\n",
    "\n",
    "<img src=\"1.png\">"
   ]
  },
  {
   "cell_type": "markdown",
   "metadata": {},
   "source": [
    "## Congratulations YOu Made your First Machine Learning Website"
   ]
  },
  {
   "cell_type": "markdown",
   "metadata": {},
   "source": [
    "### Here i Only Demonstrate How to Deploy on Locally , There is another part that you deploy in globally like in cloud platform (Heraku,google cloud,aws etc)"
   ]
  },
  {
   "cell_type": "markdown",
   "metadata": {},
   "source": [
    "## But Before Going to that part you all please make your own locally flask app and share with me after that i will going to teach about how to deploy in globally."
   ]
  },
  {
   "cell_type": "markdown",
   "metadata": {},
   "source": [
    "## You Make your own Web app and send me a screen shot of the output page as i shown above. Its My Humble request Because this part is more imporatant"
   ]
  }
 ],
 "metadata": {
  "kernelspec": {
   "display_name": "Python 3",
   "language": "python",
   "name": "python3"
  },
  "language_info": {
   "codemirror_mode": {
    "name": "ipython",
    "version": 3
   },
   "file_extension": ".py",
   "mimetype": "text/x-python",
   "name": "python",
   "nbconvert_exporter": "python",
   "pygments_lexer": "ipython3",
   "version": "3.7.6"
  }
 },
 "nbformat": 4,
 "nbformat_minor": 4
}
